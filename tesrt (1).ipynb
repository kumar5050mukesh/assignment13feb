{
 "cells": [
  {
   "cell_type": "code",
   "execution_count": null,
   "id": "127c8b04-8c67-437c-b9b2-69290b093c37",
   "metadata": {},
   "outputs": [],
   "source": [
    "#what it is an exception what is the diffrence between exception and the syntax error\n",
    "\n",
    "syntax error results when there is a problem in the syntax of the code where as the runtime \n",
    "error occurs at the runtime\n",
    "the runtime error occurs due to the problem at the execution time that is the code is right \n",
    "but the execution is wrong"
   ]
  },
  {
   "cell_type": "code",
   "execution_count": null,
   "id": "46736169-0a9d-4343-8fdf-f63a405347a6",
   "metadata": {},
   "outputs": [],
   "source": [
    "#what happens when the execption is not handled well\n",
    "when the execption is not handeled well the code will give an error and the exeution of \n",
    "the next line of the code is stopped \n",
    "when the execption is handled well the code will execute the next line of codes"
   ]
  },
  {
   "cell_type": "code",
   "execution_count": 12,
   "id": "7a7a4cf1-7505-4302-9a37-c0e35b5e63a9",
   "metadata": {},
   "outputs": [
    {
     "name": "stdout",
     "output_type": "stream",
     "text": [
      "An error occurred: [Errno 2] No such file or directory: 'myname.txt'\n"
     ]
    }
   ],
   "source": [
    "#which python statements ares used for handling of the exception explain with an example \n",
    "\n",
    "try:\n",
    "    f=open('myname.txt','r')\n",
    "    f.read()\n",
    "    print('open another file')\n",
    "except Exception as e:\n",
    "    print('An error occurred:', e)\n"
   ]
  },
  {
   "cell_type": "code",
   "execution_count": 11,
   "id": "876e9a4c-5669-4918-ab4b-9cdc8f4003ea",
   "metadata": {},
   "outputs": [
    {
     "name": "stdout",
     "output_type": "stream",
     "text": [
      "the error is  [Errno 2] No such file or directory: 'file1.txt'\n"
     ]
    }
   ],
   "source": [
    "#write a code with the try\n",
    "try:\n",
    "    try:\n",
    "        f = open('file1.txt', 'r')\n",
    "    except Exception as e:\n",
    "        print('the error is ', e)\n",
    "    else:\n",
    "        try:\n",
    "            f.read()\n",
    "        except Exception as e:\n",
    "            print('the error is ', e)\n",
    "finally:\n",
    "    try:\n",
    "        f.close()\n",
    "    except NameError:\n",
    "        pass\n"
   ]
  },
  {
   "cell_type": "code",
   "execution_count": null,
   "id": "4e20f3a6-5816-40fc-ad07-5f52f212463a",
   "metadata": {},
   "outputs": [],
   "source": [
    "'''why do we need the custom exception handling'''\n",
    "\n",
    "the custom exception handling is used to print the specified message\n",
    "in which we inherit the Exception class and and making an object \n",
    " by using the method we can print the specified message \n",
    "\n"
   ]
  },
  {
   "cell_type": "code",
   "execution_count": 22,
   "id": "26932c23-e3ac-40d2-b311-df631a692f3b",
   "metadata": {},
   "outputs": [
    {
     "name": "stdin",
     "output_type": "stream",
     "text": [
      "enter your age:  890\n"
     ]
    },
    {
     "name": "stdout",
     "output_type": "stream",
     "text": [
      "no body can live that long\n"
     ]
    }
   ],
   "source": [
    "class handleexception(Exception):\n",
    "    def __init__(self,text):\n",
    "        self.text=text\n",
    "        \n",
    "    def checkexception(self, x):\n",
    "        if x <0:\n",
    "            raise handleexception(' the age cant be negative')\n",
    "        if x>150:\n",
    "            raise handleexception('no body can live that long')\n",
    "        \n",
    "try:\n",
    "    age= int(input('enter your age: '))\n",
    "    obj=handleexception(\"\")\n",
    "    obj.checkexception(age)\n",
    "except handleexception as e:\n",
    "    print(e.text)\n"
   ]
  },
  {
   "cell_type": "code",
   "execution_count": null,
   "id": "78b4eebe-a13f-443e-974c-4023ae85d1fd",
   "metadata": {},
   "outputs": [],
   "source": []
  }
 ],
 "metadata": {
  "kernelspec": {
   "display_name": "Python 3 (ipykernel)",
   "language": "python",
   "name": "python3"
  },
  "language_info": {
   "codemirror_mode": {
    "name": "ipython",
    "version": 3
   },
   "file_extension": ".py",
   "mimetype": "text/x-python",
   "name": "python",
   "nbconvert_exporter": "python",
   "pygments_lexer": "ipython3",
   "version": "3.10.8"
  }
 },
 "nbformat": 4,
 "nbformat_minor": 5
}
